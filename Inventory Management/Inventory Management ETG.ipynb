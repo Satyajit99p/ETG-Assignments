{
 "cells": [
  {
   "cell_type": "code",
   "execution_count": 1,
   "metadata": {},
   "outputs": [],
   "source": [
    "import os\n",
    "import numpy as np\n",
    "import json\n",
    "from datetime import datetime"
   ]
  },
  {
   "cell_type": "code",
   "execution_count": 22,
   "metadata": {},
   "outputs": [],
   "source": [
    "inv_dict = {122345:{'name' :'Horlicks', 'price':189.00, 'quantity':25, 'category':'Drinks', 'discount':0, 'expiry':\"21 june, 2022\", },\n",
    "            645843:{'name' :'Colgate', 'price':45.00, 'quantity':25, 'category':'hygeine', 'discount':4, 'expiry':\"17 july, 2022\", },\n",
    "            545635:{'name' :'bournvita', 'price':99.00, 'quantity':25, 'category':'Drinks', 'discount':12, 'expiry':\"23 jan, 2022\", },\n",
    "            757786:{'name' :'tata tea', 'price':49.00, 'quantity':25, 'category':'Drinks', 'discount':3, 'expiry':\"21 feb, 2022\", },\n",
    "            758785:{'name' :'cashew', 'price':149.00, 'quantity':25, 'category':'eatables', 'discount':8, 'expiry':\"17 september, 2021\", },\n",
    "            528747:{'name' :'cookies', 'price':299.00, 'quantity':25, 'category':'eatables', 'discount':23, 'expiry':\"21 december, 2021\", },\n",
    "            236262:{'name' :'oral B', 'price':149.00, 'quantity':25, 'category':'hygeine', 'discount':13, 'expiry':\"21 march, 2022\", },\n",
    "            786754:{'name' :'sprite', 'price':89.00, 'quantity':25, 'category':'Drinks', 'discount':67, 'expiry':\"21 april, 2022\", },\n",
    "            242434:{'name' :'mazaa', 'price':69.00, 'quantity':25, 'category':'Drinks', 'discount':11, 'expiry':\"21 october, 2021\", },\n",
    "            234234:{'name' :'cadbury', 'price':49.00, 'quantity':25, 'category':'eatables', 'discount':15, 'expiry':\"12 november, 2021\", },\n",
    "            242424:{'name' :'hersheys', 'price':149.00, 'quantity':25, 'category':'eatables', 'discount':45, 'expiry':\"23 december, 2021\", },\n",
    "            345667:{'name' :'butter', 'price':79.00, 'quantity':25, 'category':'eatables', 'discount':0, 'expiry':\"21 june, 2021\", },\n",
    "            547645:{'name' :'dairy', 'price':249.00, 'quantity':25, 'category':'Drinks', 'discount':34, 'expiry':\"21 january, 2022\", },\n",
    "            452475:{'name' :'hair oil', 'price':229.00, 'quantity':25, 'category':'cosmetic', 'discount':12, 'expiry':\"21 december, 2021\", },\n",
    "            632524:{'name' :'comb', 'price':29.00, 'quantity':25, 'category':'cosmetic', 'discount':76, 'expiry':\"20 april, 2022\", },\n",
    "            524757:{'name' :'refine oil', 'price':39.00, 'quantity':25, 'category':'eatables', 'discount':10, 'expiry':\"21 september, 2022\", },\n",
    "            524255:{'name' :'masala', 'price':10.00, 'quantity':25, 'category':'eatables', 'discount':7, 'expiry':\"15 june, 2022\", },\n",
    "            767676:{'name' :'candy', 'price':50.00, 'quantity':25, 'category':'eatables', 'discount':56, 'expiry':\"17 august, 2022\", },\n",
    "            578785:{'name' :'sauce', 'price':100.00, 'quantity':25, 'category':'eatables', 'discount':34, 'expiry':\"18 december, 2021\", },\n",
    "            763786:{'name' :'soyabean', 'price':150.00, 'quantity':25, 'category':'eatables', 'discount':21, 'expiry':\"21 september, 2021\", },\n",
    "            875612:{'name' :'dry fruits', 'price':200.00, 'quantity':25, 'category':'eatables', 'discount':17, 'expiry':\"2 june, 2022\", },\n",
    "            416511:{'name' :'stationary', 'price':250.00, 'quantity':25, 'category':'education', 'discount':14, 'expiry':\"1 july, 2022\", },\n",
    "            641361:{'name' :'cutlery', 'price':80.00, 'quantity':25, 'category':'decor', 'discount':0, 'expiry':\"21 october, 2022\", },\n",
    "            644295:{'name' :'crockery', 'price':75.00, 'quantity':25, 'category':'decor', 'discount':5, 'expiry':\"18 september, 2022\", },\n",
    "            395216:{'name' :'bottles', 'price':45.00, 'quantity':25, 'category':'decor', 'discount':6, 'expiry':\"19 april, 2022\", },\n",
    "            784161:{'name' :'alcohol', 'price':105.00, 'quantity':25, 'category':'Drinks', 'discount':80, 'expiry':\"11 september, 2021\", },\n",
    "            749464:{'name' :'hairpin', 'price':155.00, 'quantity':25, 'category':'cosmetic', 'discount':43, 'expiry':\"13 june, 2022\", },\n",
    "            497814:{'name' :'facewash', 'price':245.00, 'quantity':25, 'category':'cosmetic', 'discount':57, 'expiry':\"22 march, 2022\", },\n",
    "            874513:{'name' :'toys', 'price':225.00, 'quantity':25, 'category':'decor', 'discount':90, 'expiry':\"2 january, 2022\", },\n",
    "            874651:{'name' :'notebook', 'price':285.00, 'quantity':25, 'category':'education', 'discount':1, 'expiry':\"1 december, 2022\", },\n",
    "            }"
   ]
  },
  {
   "cell_type": "code",
   "execution_count": 3,
   "metadata": {
    "scrolled": true
   },
   "outputs": [
    {
     "data": {
      "text/plain": [
       "30"
      ]
     },
     "execution_count": 3,
     "metadata": {},
     "output_type": "execute_result"
    }
   ],
   "source": [
    "len(inv_dict)"
   ]
  },
  {
   "cell_type": "code",
   "execution_count": 4,
   "metadata": {},
   "outputs": [
    {
     "data": {
      "text/plain": [
       "245.0"
      ]
     },
     "execution_count": 4,
     "metadata": {},
     "output_type": "execute_result"
    }
   ],
   "source": [
    "inv_dict[497814]['price']"
   ]
  },
  {
   "cell_type": "code",
   "execution_count": 5,
   "metadata": {},
   "outputs": [
    {
     "data": {
      "text/plain": [
       "str"
      ]
     },
     "execution_count": 5,
     "metadata": {},
     "output_type": "execute_result"
    }
   ],
   "source": [
    "js=json.dumps(inv_dict)\n",
    "type(js)"
   ]
  },
  {
   "cell_type": "code",
   "execution_count": 6,
   "metadata": {},
   "outputs": [],
   "source": [
    "fd = open('inventory.json','w')\n",
    "fd.write(js)\n",
    "fd.close()"
   ]
  },
  {
   "cell_type": "code",
   "execution_count": 7,
   "metadata": {},
   "outputs": [],
   "source": [
    "fd = open('inventory.json','r')\n",
    "txt = fd.read()\n",
    "fd.close()"
   ]
  },
  {
   "cell_type": "code",
   "execution_count": 8,
   "metadata": {},
   "outputs": [],
   "source": [
    "record=json.loads(txt)"
   ]
  },
  {
   "cell_type": "code",
   "execution_count": 9,
   "metadata": {},
   "outputs": [
    {
     "data": {
      "text/plain": [
       "{'122345': {'name': 'Horlicks',\n",
       "  'price': 189.0,\n",
       "  'quantity': 25,\n",
       "  'category': 'Drinks',\n",
       "  'discount': 'NA',\n",
       "  'expiry': '21 june, 2022'},\n",
       " '645843': {'name': 'Colgate',\n",
       "  'price': 45.0,\n",
       "  'quantity': 25,\n",
       "  'category': 'hygeine',\n",
       "  'discount': 'NA',\n",
       "  'expiry': '17 july, 2022'},\n",
       " '545635': {'name': 'bournvita',\n",
       "  'price': 99.0,\n",
       "  'quantity': 25,\n",
       "  'category': 'Drinks',\n",
       "  'discount': 'NA',\n",
       "  'expiry': '23 jan, 2022'},\n",
       " '757786': {'name': 'tata tea',\n",
       "  'price': 49.0,\n",
       "  'quantity': 25,\n",
       "  'category': 'Drinks',\n",
       "  'discount': 'NA',\n",
       "  'expiry': '21 feb, 2022'},\n",
       " '758785': {'name': 'cashew',\n",
       "  'price': 149.0,\n",
       "  'quantity': 25,\n",
       "  'category': 'eatables',\n",
       "  'discount': 'NA',\n",
       "  'expiry': '17 september, 2021'},\n",
       " '528747': {'name': 'cookies',\n",
       "  'price': 299.0,\n",
       "  'quantity': 25,\n",
       "  'category': 'eatables',\n",
       "  'discount': 'NA',\n",
       "  'expiry': '21 december, 2021'},\n",
       " '236262': {'name': 'oral B',\n",
       "  'price': 149.0,\n",
       "  'quantity': 25,\n",
       "  'category': 'hygeine',\n",
       "  'discount': 'NA',\n",
       "  'expiry': '21 march, 2022'},\n",
       " '786754': {'name': 'sprite',\n",
       "  'price': 89.0,\n",
       "  'quantity': 25,\n",
       "  'category': 'Drinks',\n",
       "  'discount': 'NA',\n",
       "  'expiry': '21 april, 2022'},\n",
       " '242434': {'name': 'mazaa',\n",
       "  'price': 69.0,\n",
       "  'quantity': 25,\n",
       "  'category': 'Drinks',\n",
       "  'discount': 'NA',\n",
       "  'expiry': '21 october, 2021'},\n",
       " '234234': {'name': 'cadbury',\n",
       "  'price': 49.0,\n",
       "  'quantity': 25,\n",
       "  'category': 'eatables',\n",
       "  'discount': 'NA',\n",
       "  'expiry': '12 november, 2021'},\n",
       " '242424': {'name': 'hersheys',\n",
       "  'price': 149.0,\n",
       "  'quantity': 25,\n",
       "  'category': 'eatables',\n",
       "  'discount': 'NA',\n",
       "  'expiry': '23 december, 2021'},\n",
       " '345667': {'name': 'butter',\n",
       "  'price': 79.0,\n",
       "  'quantity': 25,\n",
       "  'category': 'eatables',\n",
       "  'discount': 'NA',\n",
       "  'expiry': '21 june, 2021'},\n",
       " '547645': {'name': 'dairy',\n",
       "  'price': 249.0,\n",
       "  'quantity': 25,\n",
       "  'category': 'Drinks',\n",
       "  'discount': 'NA',\n",
       "  'expiry': '21 january, 2022'},\n",
       " '452475': {'name': 'hair oil',\n",
       "  'price': 229.0,\n",
       "  'quantity': 25,\n",
       "  'category': 'cosmetic',\n",
       "  'discount': 'NA',\n",
       "  'expiry': '21 december, 2021'},\n",
       " '632524': {'name': 'comb',\n",
       "  'price': 29.0,\n",
       "  'quantity': 25,\n",
       "  'category': 'cosmetic',\n",
       "  'discount': 'NA',\n",
       "  'expiry': '20 april, 2022'},\n",
       " '524757': {'name': 'refine oil',\n",
       "  'price': 39.0,\n",
       "  'quantity': 25,\n",
       "  'category': 'eatables',\n",
       "  'discount': 'NA',\n",
       "  'expiry': '21 september, 2022'},\n",
       " '524255': {'name': 'masala',\n",
       "  'price': 10.0,\n",
       "  'quantity': 25,\n",
       "  'category': 'eatables',\n",
       "  'discount': 'NA',\n",
       "  'expiry': '15 june, 2022'},\n",
       " '767676': {'name': 'candy',\n",
       "  'price': 50.0,\n",
       "  'quantity': 25,\n",
       "  'category': 'eatables',\n",
       "  'discount': 'NA',\n",
       "  'expiry': '17 august, 2022'},\n",
       " '578785': {'name': 'sauce',\n",
       "  'price': 100.0,\n",
       "  'quantity': 25,\n",
       "  'category': 'eatables',\n",
       "  'discount': 'NA',\n",
       "  'expiry': '18 december, 2021'},\n",
       " '763786': {'name': 'soyabean',\n",
       "  'price': 150.0,\n",
       "  'quantity': 25,\n",
       "  'category': 'eatables',\n",
       "  'discount': 'NA',\n",
       "  'expiry': '21 september, 2021'},\n",
       " '875612': {'name': 'dry fruits',\n",
       "  'price': 200.0,\n",
       "  'quantity': 25,\n",
       "  'category': 'eatables',\n",
       "  'discount': 'NA',\n",
       "  'expiry': '2 june, 2022'},\n",
       " '416511': {'name': 'stationary',\n",
       "  'price': 250.0,\n",
       "  'quantity': 25,\n",
       "  'category': 'education',\n",
       "  'discount': 'NA',\n",
       "  'expiry': '1 july, 2022'},\n",
       " '641361': {'name': 'cutlery',\n",
       "  'price': 80.0,\n",
       "  'quantity': 25,\n",
       "  'category': 'decor',\n",
       "  'discount': 'NA',\n",
       "  'expiry': '21 october, 2022'},\n",
       " '644295': {'name': 'crockery',\n",
       "  'price': 75.0,\n",
       "  'quantity': 25,\n",
       "  'category': 'decor',\n",
       "  'discount': 'NA',\n",
       "  'expiry': '18 september, 2022'},\n",
       " '395216': {'name': 'bottles',\n",
       "  'price': 45.0,\n",
       "  'quantity': 25,\n",
       "  'category': 'decor',\n",
       "  'discount': 'NA',\n",
       "  'expiry': '19 april, 2022'},\n",
       " '784161': {'name': 'alcohol',\n",
       "  'price': 105.0,\n",
       "  'quantity': 25,\n",
       "  'category': 'Drinks',\n",
       "  'discount': 'NA',\n",
       "  'expiry': '11 september, 2021'},\n",
       " '749464': {'name': 'hairpin',\n",
       "  'price': 155.0,\n",
       "  'quantity': 25,\n",
       "  'category': 'cosmetic',\n",
       "  'discount': 'NA',\n",
       "  'expiry': '13 june, 2022'},\n",
       " '497814': {'name': 'facewash',\n",
       "  'price': 245.0,\n",
       "  'quantity': 25,\n",
       "  'category': 'cosmetic',\n",
       "  'discount': 'NA',\n",
       "  'expiry': '22 march, 2022'},\n",
       " '874513': {'name': 'toys',\n",
       "  'price': 225.0,\n",
       "  'quantity': 25,\n",
       "  'category': 'decor',\n",
       "  'discount': 'NA',\n",
       "  'expiry': '2 january, 2022'},\n",
       " '874651': {'name': 'notebook',\n",
       "  'price': 285.0,\n",
       "  'quantity': 25,\n",
       "  'category': 'education',\n",
       "  'discount': 'NA',\n",
       "  'expiry': '1 december, 2022'}}"
      ]
     },
     "execution_count": 9,
     "metadata": {},
     "output_type": "execute_result"
    }
   ],
   "source": [
    "record"
   ]
  },
  {
   "cell_type": "code",
   "execution_count": 10,
   "metadata": {},
   "outputs": [
    {
     "data": {
      "text/plain": [
       "dict"
      ]
     },
     "execution_count": 10,
     "metadata": {},
     "output_type": "execute_result"
    }
   ],
   "source": [
    "type(record)"
   ]
  },
  {
   "cell_type": "markdown",
   "metadata": {},
   "source": [
    "### Customer Purchase"
   ]
  },
  {
   "cell_type": "code",
   "execution_count": 28,
   "metadata": {},
   "outputs": [
    {
     "name": "stdout",
     "output_type": "stream",
     "text": [
      "Please enter 5 items ans quantity key which you would like to purchase\n"
     ]
    },
    {
     "ename": "KeyboardInterrupt",
     "evalue": "Interrupted by user",
     "output_type": "error",
     "traceback": [
      "\u001b[1;31m---------------------------------------------------------------------------\u001b[0m",
      "\u001b[1;31mKeyboardInterrupt\u001b[0m                         Traceback (most recent call last)",
      "\u001b[1;32m<ipython-input-28-8163fd35c06f>\u001b[0m in \u001b[0;36m<module>\u001b[1;34m\u001b[0m\n\u001b[0;32m      2\u001b[0m \u001b[0morder\u001b[0m\u001b[1;33m=\u001b[0m\u001b[1;33m{\u001b[0m\u001b[1;33m}\u001b[0m\u001b[1;33m\u001b[0m\u001b[1;33m\u001b[0m\u001b[0m\n\u001b[0;32m      3\u001b[0m \u001b[1;32mfor\u001b[0m \u001b[0mi\u001b[0m \u001b[1;32min\u001b[0m \u001b[0mrange\u001b[0m \u001b[1;33m(\u001b[0m\u001b[1;36m0\u001b[0m\u001b[1;33m,\u001b[0m\u001b[1;36m5\u001b[0m\u001b[1;33m)\u001b[0m\u001b[1;33m:\u001b[0m\u001b[1;33m\u001b[0m\u001b[1;33m\u001b[0m\u001b[0m\n\u001b[1;32m----> 4\u001b[1;33m     \u001b[0mx\u001b[0m\u001b[1;33m=\u001b[0m\u001b[0minput\u001b[0m\u001b[1;33m(\u001b[0m\u001b[1;33m)\u001b[0m\u001b[1;33m\u001b[0m\u001b[1;33m\u001b[0m\u001b[0m\n\u001b[0m\u001b[0;32m      5\u001b[0m     \u001b[0mtmp\u001b[0m\u001b[1;33m=\u001b[0m\u001b[0mx\u001b[0m\u001b[1;33m.\u001b[0m\u001b[0msplit\u001b[0m\u001b[1;33m(\u001b[0m\u001b[1;34m' '\u001b[0m\u001b[1;33m)\u001b[0m\u001b[1;33m\u001b[0m\u001b[1;33m\u001b[0m\u001b[0m\n\u001b[0;32m      6\u001b[0m     \u001b[0morder\u001b[0m\u001b[1;33m[\u001b[0m\u001b[0mint\u001b[0m\u001b[1;33m(\u001b[0m\u001b[0mtmp\u001b[0m\u001b[1;33m[\u001b[0m\u001b[1;36m0\u001b[0m\u001b[1;33m]\u001b[0m\u001b[1;33m)\u001b[0m\u001b[1;33m]\u001b[0m\u001b[1;33m=\u001b[0m\u001b[0mint\u001b[0m\u001b[1;33m(\u001b[0m\u001b[0mtmp\u001b[0m\u001b[1;33m[\u001b[0m\u001b[1;36m1\u001b[0m\u001b[1;33m]\u001b[0m\u001b[1;33m)\u001b[0m\u001b[1;33m\u001b[0m\u001b[1;33m\u001b[0m\u001b[0m\n",
      "\u001b[1;32m~\\anaconda3\\lib\\site-packages\\ipykernel\\kernelbase.py\u001b[0m in \u001b[0;36mraw_input\u001b[1;34m(self, prompt)\u001b[0m\n\u001b[0;32m    861\u001b[0m             \u001b[0mself\u001b[0m\u001b[1;33m.\u001b[0m\u001b[0m_parent_ident\u001b[0m\u001b[1;33m,\u001b[0m\u001b[1;33m\u001b[0m\u001b[1;33m\u001b[0m\u001b[0m\n\u001b[0;32m    862\u001b[0m             \u001b[0mself\u001b[0m\u001b[1;33m.\u001b[0m\u001b[0m_parent_header\u001b[0m\u001b[1;33m,\u001b[0m\u001b[1;33m\u001b[0m\u001b[1;33m\u001b[0m\u001b[0m\n\u001b[1;32m--> 863\u001b[1;33m             \u001b[0mpassword\u001b[0m\u001b[1;33m=\u001b[0m\u001b[1;32mFalse\u001b[0m\u001b[1;33m,\u001b[0m\u001b[1;33m\u001b[0m\u001b[1;33m\u001b[0m\u001b[0m\n\u001b[0m\u001b[0;32m    864\u001b[0m         )\n\u001b[0;32m    865\u001b[0m \u001b[1;33m\u001b[0m\u001b[0m\n",
      "\u001b[1;32m~\\anaconda3\\lib\\site-packages\\ipykernel\\kernelbase.py\u001b[0m in \u001b[0;36m_input_request\u001b[1;34m(self, prompt, ident, parent, password)\u001b[0m\n\u001b[0;32m    902\u001b[0m             \u001b[1;32mexcept\u001b[0m \u001b[0mKeyboardInterrupt\u001b[0m\u001b[1;33m:\u001b[0m\u001b[1;33m\u001b[0m\u001b[1;33m\u001b[0m\u001b[0m\n\u001b[0;32m    903\u001b[0m                 \u001b[1;31m# re-raise KeyboardInterrupt, to truncate traceback\u001b[0m\u001b[1;33m\u001b[0m\u001b[1;33m\u001b[0m\u001b[1;33m\u001b[0m\u001b[0m\n\u001b[1;32m--> 904\u001b[1;33m                 \u001b[1;32mraise\u001b[0m \u001b[0mKeyboardInterrupt\u001b[0m\u001b[1;33m(\u001b[0m\u001b[1;34m\"Interrupted by user\"\u001b[0m\u001b[1;33m)\u001b[0m \u001b[1;32mfrom\u001b[0m \u001b[1;32mNone\u001b[0m\u001b[1;33m\u001b[0m\u001b[1;33m\u001b[0m\u001b[0m\n\u001b[0m\u001b[0;32m    905\u001b[0m             \u001b[1;32mexcept\u001b[0m \u001b[0mException\u001b[0m \u001b[1;32mas\u001b[0m \u001b[0me\u001b[0m\u001b[1;33m:\u001b[0m\u001b[1;33m\u001b[0m\u001b[1;33m\u001b[0m\u001b[0m\n\u001b[0;32m    906\u001b[0m                 \u001b[0mself\u001b[0m\u001b[1;33m.\u001b[0m\u001b[0mlog\u001b[0m\u001b[1;33m.\u001b[0m\u001b[0mwarning\u001b[0m\u001b[1;33m(\u001b[0m\u001b[1;34m\"Invalid Message:\"\u001b[0m\u001b[1;33m,\u001b[0m \u001b[0mexc_info\u001b[0m\u001b[1;33m=\u001b[0m\u001b[1;32mTrue\u001b[0m\u001b[1;33m)\u001b[0m\u001b[1;33m\u001b[0m\u001b[1;33m\u001b[0m\u001b[0m\n",
      "\u001b[1;31mKeyboardInterrupt\u001b[0m: Interrupted by user"
     ]
    }
   ],
   "source": [
    "print('Please enter 5 items ans quantity key which you would like to purchase')\n",
    "order={}\n",
    "for i in range (0,5):\n",
    "    x=input()\n",
    "    tmp=x.split(' ')\n",
    "    order[int(tmp[0])]=int(tmp[1])\n",
    "          "
   ]
  },
  {
   "cell_type": "code",
   "execution_count": 25,
   "metadata": {},
   "outputs": [
    {
     "data": {
      "text/plain": [
       "{416511: 7, 786754: 11, 784161: 9, 875612: 13, 196165: 10}"
      ]
     },
     "execution_count": 25,
     "metadata": {},
     "output_type": "execute_result"
    }
   ],
   "source": [
    "order = {416511: 7, 786754: 11, 784161: 9, 875612: 13, 196165: 10}\n",
    "order "
   ]
  },
  {
   "cell_type": "code",
   "execution_count": 26,
   "metadata": {},
   "outputs": [
    {
     "name": "stdout",
     "output_type": "stream",
     "text": [
      "<class 'int'>\n",
      "<class 'int'>\n",
      "<class 'int'>\n",
      "<class 'int'>\n",
      "<class 'int'>\n"
     ]
    }
   ],
   "source": [
    "ID = list(inv_dict.keys())\n",
    "for i in order:\n",
    "        print(type(i))"
   ]
  },
  {
   "cell_type": "markdown",
   "metadata": {},
   "source": [
    "### summary of order"
   ]
  },
  {
   "cell_type": "code",
   "execution_count": 27,
   "metadata": {},
   "outputs": [
    {
     "name": "stdout",
     "output_type": "stream",
     "text": [
      "you ordered 7 stationary\n",
      "old quantity is 25\n",
      "new quantity is 18\n",
      "you ordered 11 sprite\n",
      "old quantity is 25\n",
      "new quantity is 14\n",
      "you ordered 9 alcohol\n",
      "old quantity is 25\n",
      "new quantity is 16\n",
      "you ordered 13 dry fruits\n",
      "old quantity is 25\n",
      "new quantity is 12\n",
      "product 196165 is not available\n"
     ]
    }
   ],
   "source": [
    "for i in order:    \n",
    "    if(i in inv_dict.keys()):\n",
    "        print('you ordered {} {}'.format(order[i],inv_dict[i]['name']))\n",
    "        print('old quantity is',inv_dict[i]['quantity'])\n",
    "        inv_dict[i]['quantity'] -= order[i]\n",
    "        print('new quantity is',inv_dict[i]['quantity'])\n",
    "    else:\n",
    "        print(\"product {} is not available\".format(i))\n",
    "        "
   ]
  },
  {
   "cell_type": "code",
   "execution_count": 15,
   "metadata": {},
   "outputs": [
    {
     "name": "stdout",
     "output_type": "stream",
     "text": [
      "{'name': 'alcohol', 'price': 105.0, 'quantity': 16, 'category': 'Drinks', 'discount': 'NA', 'expiry': '11 september, 2021'}\n"
     ]
    }
   ],
   "source": [
    "print(inv_dict[784161])"
   ]
  },
  {
   "cell_type": "markdown",
   "metadata": {},
   "source": [
    "### total bill"
   ]
  },
  {
   "cell_type": "code",
   "execution_count": 23,
   "metadata": {},
   "outputs": [
    {
     "name": "stdout",
     "output_type": "stream",
     "text": [
      "you ordered 7 stationary\n",
      "Cost 1750.0 \n",
      "you ordered 11 sprite\n",
      "Cost 979.0 \n",
      "you ordered 9 alcohol\n",
      "Cost 945.0 \n",
      "you ordered 13 dry fruits\n",
      "Cost 2600.0 \n",
      "Total bill :  6274.0\n",
      "{1: {'item': 'stationary', 'quantity': 7, 'price': 250.0, 'SP': 215.0, 'total': 1505.0}, 2: {'item': 'sprite', 'quantity': 11, 'price': 89.0, 'SP': 29.369999999999997, 'total': 323.07}, 3: {'item': 'alcohol', 'quantity': 9, 'price': 105.0, 'SP': 20.999999999999996, 'total': 188.99999999999997}, 4: {'item': 'dry fruits', 'quantity': 13, 'price': 200.0, 'SP': 166.0, 'total': 2158.0}}\n"
     ]
    }
   ],
   "source": [
    "cost=0\n",
    "for i in order:    \n",
    "    if(i in inv_dict.keys()):\n",
    "        print('you ordered {} {}'.format(order[i],inv_dict[i]['name']))\n",
    "        print('Cost {} '.format(order[i]*inv_dict[i]['price']))\n",
    "        cost+=order[i]*inv_dict[i]['price']\n",
    "print('Total bill : ',cost)\n",
    "\n",
    "bill={}\n",
    "c=1\n",
    "for i in order:\n",
    "    if(i in inv_dict.keys()):\n",
    "        yo={}\n",
    "        yo['item'] = inv_dict[i]['name']\n",
    "        yo['quantity'] = order[i]\n",
    "        yo['price'] = inv_dict[i]['price']\n",
    "        yo['SP'] = inv_dict[i]['price']*(1.0 - inv_dict[i]['discount']/100.0)\n",
    "        yo['total'] = yo['SP']*order[i]\n",
    "        bill[c] = yo\n",
    "        c+=1\n",
    "print(bill)\n",
    "    "
   ]
  },
  {
   "cell_type": "markdown",
   "metadata": {},
   "source": [
    "### tracking expiry"
   ]
  },
  {
   "cell_type": "code",
   "execution_count": 17,
   "metadata": {},
   "outputs": [
    {
     "name": "stdout",
     "output_type": "stream",
     "text": [
      "product 784161 alcohol is low on shelf life\n"
     ]
    }
   ],
   "source": [
    "shelf=[]\n",
    "for i in order:    \n",
    "    if(i in inv_dict.keys()):\n",
    "        exp_date = inv_dict[i]['expiry']\n",
    "        exp_date = datetime.strptime(exp_date, \"%d %B, %Y\")\n",
    "        now = datetime.now()\n",
    "        x=exp_date - now\n",
    "        if(x.days <= 60):\n",
    "            print('product {} {} is low on shelf life'.format(i,inv_dict[i]['name']))\n",
    "            "
   ]
  },
  {
   "cell_type": "code",
   "execution_count": 18,
   "metadata": {},
   "outputs": [
    {
     "name": "stdout",
     "output_type": "stream",
     "text": [
      "date_string = 21 june, 2018\n",
      "date_object = 2018-06-21 00:00:00\n",
      "1169 days, 19:48:52.023979\n"
     ]
    }
   ],
   "source": [
    "from datetime import datetime\n",
    "\n",
    "\n",
    "date_string = \"21 june, 2018\"\n",
    "print(\"date_string =\", date_string)\n",
    "\n",
    "date_object = datetime.strptime(date_string, \"%d %B, %Y\")\n",
    "print(\"date_object =\", date_object)\n",
    "\n",
    "day = datetime.now()\n",
    "print(day-date_object)"
   ]
  },
  {
   "cell_type": "code",
   "execution_count": null,
   "metadata": {},
   "outputs": [],
   "source": []
  },
  {
   "cell_type": "code",
   "execution_count": null,
   "metadata": {},
   "outputs": [],
   "source": []
  }
 ],
 "metadata": {
  "kernelspec": {
   "display_name": "Python 3",
   "language": "python",
   "name": "python3"
  },
  "language_info": {
   "codemirror_mode": {
    "name": "ipython",
    "version": 3
   },
   "file_extension": ".py",
   "mimetype": "text/x-python",
   "name": "python",
   "nbconvert_exporter": "python",
   "pygments_lexer": "ipython3",
   "version": "3.7.6"
  }
 },
 "nbformat": 4,
 "nbformat_minor": 4
}
