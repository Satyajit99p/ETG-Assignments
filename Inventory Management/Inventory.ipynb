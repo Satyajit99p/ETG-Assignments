{
 "cells": [
  {
   "cell_type": "markdown",
   "metadata": {},
   "source": [
    "### importing necessary library"
   ]
  },
  {
   "cell_type": "code",
   "execution_count": 1,
   "metadata": {},
   "outputs": [],
   "source": [
    "import os\n",
    "import numpy as np\n",
    "import json\n",
    "from datetime import datetime"
   ]
  },
  {
   "cell_type": "markdown",
   "metadata": {},
   "source": [
    "### initial inventory"
   ]
  },
  {
   "cell_type": "code",
   "execution_count": 27,
   "metadata": {},
   "outputs": [],
   "source": [
    "inv_dict = {122345:{'name' :'Horlicks', 'price':189.00, 'quantity':25, 'category':'Drinks', 'discount':0, 'expiry':\"21 june, 2022\", },\n",
    "            645843:{'name' :'Colgate', 'price':45.00, 'quantity':25, 'category':'hygeine', 'discount':4, 'expiry':\"17 july, 2022\", },\n",
    "            545635:{'name' :'bournvita', 'price':99.00, 'quantity':25, 'category':'Drinks', 'discount':12, 'expiry':\"23 january, 2022\", },\n",
    "            757786:{'name' :'tata tea', 'price':49.00, 'quantity':25, 'category':'Drinks', 'discount':3, 'expiry':\"21 february, 2022\", },\n",
    "            758785:{'name' :'cashew', 'price':149.00, 'quantity':25, 'category':'eatables', 'discount':8, 'expiry':\"17 september, 2021\", },\n",
    "            528747:{'name' :'cookies', 'price':299.00, 'quantity':25, 'category':'eatables', 'discount':23, 'expiry':\"21 december, 2021\", },\n",
    "            236262:{'name' :'oral B', 'price':149.00, 'quantity':25, 'category':'hygeine', 'discount':13, 'expiry':\"21 march, 2022\", },\n",
    "            786754:{'name' :'sprite', 'price':89.00, 'quantity':25, 'category':'Drinks', 'discount':67, 'expiry':\"21 april, 2022\", },\n",
    "            242434:{'name' :'mazaa', 'price':69.00, 'quantity':25, 'category':'Drinks', 'discount':11, 'expiry':\"21 october, 2021\", },\n",
    "            234234:{'name' :'cadbury', 'price':49.00, 'quantity':25, 'category':'eatables', 'discount':15, 'expiry':\"12 november, 2021\", },\n",
    "            242424:{'name' :'hersheys', 'price':149.00, 'quantity':25, 'category':'eatables', 'discount':45, 'expiry':\"23 december, 2021\", },\n",
    "            345667:{'name' :'butter', 'price':79.00, 'quantity':25, 'category':'eatables', 'discount':0, 'expiry':\"21 june, 2021\", },\n",
    "            547645:{'name' :'dairy', 'price':249.00, 'quantity':25, 'category':'Drinks', 'discount':34, 'expiry':\"21 january, 2022\", },\n",
    "            452475:{'name' :'hair oil', 'price':229.00, 'quantity':25, 'category':'cosmetic', 'discount':12, 'expiry':\"21 december, 2021\", },\n",
    "            632524:{'name' :'comb', 'price':29.00, 'quantity':25, 'category':'cosmetic', 'discount':76, 'expiry':\"20 april, 2022\", },\n",
    "            524757:{'name' :'refine oil', 'price':39.00, 'quantity':25, 'category':'eatables', 'discount':10, 'expiry':\"21 september, 2022\", },\n",
    "            524255:{'name' :'masala', 'price':10.00, 'quantity':25, 'category':'eatables', 'discount':7, 'expiry':\"15 june, 2022\", },\n",
    "            767676:{'name' :'candy', 'price':50.00, 'quantity':25, 'category':'eatables', 'discount':56, 'expiry':\"17 august, 2022\", },\n",
    "            578785:{'name' :'sauce', 'price':100.00, 'quantity':25, 'category':'eatables', 'discount':34, 'expiry':\"18 december, 2021\", },\n",
    "            763786:{'name' :'soyabean', 'price':150.00, 'quantity':25, 'category':'eatables', 'discount':21, 'expiry':\"21 september, 2021\", },\n",
    "            875612:{'name' :'dry fruits', 'price':200.00, 'quantity':25, 'category':'eatables', 'discount':17, 'expiry':\"2 june, 2022\", },\n",
    "            416511:{'name' :'stationary', 'price':250.00, 'quantity':25, 'category':'education', 'discount':14, 'expiry':\"1 july, 2022\", },\n",
    "            641361:{'name' :'cutlery', 'price':80.00, 'quantity':25, 'category':'decor', 'discount':0, 'expiry':\"21 october, 2022\", },\n",
    "            644295:{'name' :'crockery', 'price':75.00, 'quantity':25, 'category':'decor', 'discount':5, 'expiry':\"18 september, 2022\", },\n",
    "            395216:{'name' :'bottles', 'price':45.00, 'quantity':25, 'category':'decor', 'discount':6, 'expiry':\"19 april, 2022\", },\n",
    "            784161:{'name' :'alcohol', 'price':105.00, 'quantity':25, 'category':'Drinks', 'discount':80, 'expiry':\"11 september, 2021\", },\n",
    "            749464:{'name' :'hairpin', 'price':155.00, 'quantity':25, 'category':'cosmetic', 'discount':43, 'expiry':\"13 june, 2022\", },\n",
    "            497814:{'name' :'facewash', 'price':245.00, 'quantity':25, 'category':'cosmetic', 'discount':57, 'expiry':\"22 march, 2022\", },\n",
    "            874513:{'name' :'toys', 'price':225.00, 'quantity':25, 'category':'decor', 'discount':90, 'expiry':\"2 january, 2022\", },\n",
    "            874651:{'name' :'notebook', 'price':285.00, 'quantity':25, 'category':'education', 'discount':1, 'expiry':\"1 december, 2022\", },\n",
    "            }"
   ]
  },
  {
   "cell_type": "markdown",
   "metadata": {},
   "source": [
    "### adding new products to inventory"
   ]
  },
  {
   "cell_type": "code",
   "execution_count": 21,
   "metadata": {},
   "outputs": [
    {
     "name": "stdout",
     "output_type": "stream",
     "text": [
      "enter product id 874651\n",
      "enter product quantity 25\n",
      "{122345: {'name': 'Horlicks', 'price': 189.0, 'quantity': 25, 'category': 'Drinks', 'discount': 0, 'expiry': '21 june, 2022'}, 645843: {'name': 'Colgate', 'price': 45.0, 'quantity': 25, 'category': 'hygeine', 'discount': 4, 'expiry': '17 july, 2022'}, 545635: {'name': 'bournvita', 'price': 99.0, 'quantity': 25, 'category': 'Drinks', 'discount': 12, 'expiry': '23 jan, 2022'}, 757786: {'name': 'tata tea', 'price': 49.0, 'quantity': 25, 'category': 'Drinks', 'discount': 3, 'expiry': '21 feb, 2022'}, 758785: {'name': 'cashew', 'price': 149.0, 'quantity': 25, 'category': 'eatables', 'discount': 8, 'expiry': '17 september, 2021'}, 528747: {'name': 'cookies', 'price': 299.0, 'quantity': 25, 'category': 'eatables', 'discount': 23, 'expiry': '21 december, 2021'}, 236262: {'name': 'oral B', 'price': 149.0, 'quantity': 25, 'category': 'hygeine', 'discount': 13, 'expiry': '21 march, 2022'}, 786754: {'name': 'sprite', 'price': 89.0, 'quantity': 25, 'category': 'Drinks', 'discount': 67, 'expiry': '21 april, 2022'}, 242434: {'name': 'mazaa', 'price': 69.0, 'quantity': 25, 'category': 'Drinks', 'discount': 11, 'expiry': '21 october, 2021'}, 234234: {'name': 'cadbury', 'price': 49.0, 'quantity': 25, 'category': 'eatables', 'discount': 15, 'expiry': '12 november, 2021'}, 242424: {'name': 'hersheys', 'price': 149.0, 'quantity': 25, 'category': 'eatables', 'discount': 45, 'expiry': '23 december, 2021'}, 345667: {'name': 'butter', 'price': 79.0, 'quantity': 25, 'category': 'eatables', 'discount': 0, 'expiry': '21 june, 2021'}, 547645: {'name': 'dairy', 'price': 249.0, 'quantity': 25, 'category': 'Drinks', 'discount': 34, 'expiry': '21 january, 2022'}, 452475: {'name': 'hair oil', 'price': 229.0, 'quantity': 25, 'category': 'cosmetic', 'discount': 12, 'expiry': '21 december, 2021'}, 632524: {'name': 'comb', 'price': 29.0, 'quantity': 25, 'category': 'cosmetic', 'discount': 76, 'expiry': '20 april, 2022'}, 524757: {'name': 'refine oil', 'price': 39.0, 'quantity': 25, 'category': 'eatables', 'discount': 10, 'expiry': '21 september, 2022'}, 524255: {'name': 'masala', 'price': 10.0, 'quantity': 25, 'category': 'eatables', 'discount': 7, 'expiry': '15 june, 2022'}, 767676: {'name': 'candy', 'price': 50.0, 'quantity': 25, 'category': 'eatables', 'discount': 56, 'expiry': '17 august, 2022'}, 578785: {'name': 'sauce', 'price': 100.0, 'quantity': 25, 'category': 'eatables', 'discount': 34, 'expiry': '18 december, 2021'}, 763786: {'name': 'soyabean', 'price': 150.0, 'quantity': 25, 'category': 'eatables', 'discount': 21, 'expiry': '21 september, 2021'}, 875612: {'name': 'dry fruits', 'price': 200.0, 'quantity': 25, 'category': 'eatables', 'discount': 17, 'expiry': '2 june, 2022'}, 416511: {'name': 'stationary', 'price': 250.0, 'quantity': 25, 'category': 'education', 'discount': 14, 'expiry': '1 july, 2022'}, 641361: {'name': 'cutlery', 'price': 80.0, 'quantity': 25, 'category': 'decor', 'discount': 0, 'expiry': '21 october, 2022'}, 644295: {'name': 'crockery', 'price': 75.0, 'quantity': 25, 'category': 'decor', 'discount': 5, 'expiry': '18 september, 2022'}, 395216: {'name': 'bottles', 'price': 45.0, 'quantity': 25, 'category': 'decor', 'discount': 6, 'expiry': '19 april, 2022'}, 784161: {'name': 'alcohol', 'price': 105.0, 'quantity': 25, 'category': 'Drinks', 'discount': 80, 'expiry': '11 september, 2021'}, 749464: {'name': 'hairpin', 'price': 155.0, 'quantity': 25, 'category': 'cosmetic', 'discount': 43, 'expiry': '13 june, 2022'}, 497814: {'name': 'facewash', 'price': 245.0, 'quantity': 25, 'category': 'cosmetic', 'discount': 57, 'expiry': '22 march, 2022'}, 874513: {'name': 'toys', 'price': 225.0, 'quantity': 25, 'category': 'decor', 'discount': 90, 'expiry': '2 january, 2022'}, 874651: {'name': 'notebook', 'price': 285.0, 'quantity': 50, 'category': 'education', 'discount': 1, 'expiry': '1 december, 2022'}}\n"
     ]
    }
   ],
   "source": [
    "id = int(input('enter product id '))\n",
    "if id in inv_dict:\n",
    "    quantity = int(input('enter product quantity '))\n",
    "    inv_dict[id]['quantity'] = inv_dict[id]['quantity'] + quantity\n",
    "    print(inv_dict )\n",
    "else:\n",
    "    name = input('enter product name ')\n",
    "    price = float(input('enter product price '))\n",
    "    quantity = int(input('enter product quantity '))\n",
    "    category= input('enter product category ')\n",
    "    discount = int(input('enter product discount '))\n",
    "    expiry = input('enter product expiry date in dd month, yyyy ')\n",
    "\n",
    "    inv_dict[id] = {'name' :name, 'price':price, 'quantity':quantity, 'category':category, 'discount':discount, 'expiry':expiry }\n",
    "    print(inv_dict)         "
   ]
  },
  {
   "cell_type": "markdown",
   "metadata": {},
   "source": [
    "### tracking expired items"
   ]
  },
  {
   "cell_type": "code",
   "execution_count": 29,
   "metadata": {},
   "outputs": [
    {
     "name": "stdout",
     "output_type": "stream",
     "text": [
      "product 758785 cashew is low on shelf life\n",
      "product 242434 mazaa is low on shelf life\n",
      "product 345667 butter is low on shelf life\n",
      "product 763786 soyabean is low on shelf life\n",
      "product 784161 alcohol is low on shelf life\n"
     ]
    }
   ],
   "source": [
    "shelf=[]\n",
    "for i in inv_dict:    \n",
    "    if(i in inv_dict.keys()):\n",
    "        exp_date = inv_dict[i]['expiry']\n",
    "        exp_date = datetime.strptime(exp_date, \"%d %B, %Y\")\n",
    "        now = datetime.now()\n",
    "        x=exp_date - now\n",
    "        if(x.days <= 60):\n",
    "            print('product {} {} is low on shelf life'.format(i,inv_dict[i]['name']))"
   ]
  },
  {
   "cell_type": "markdown",
   "metadata": {},
   "source": [
    "### saving the JSON inventory file"
   ]
  },
  {
   "cell_type": "code",
   "execution_count": 22,
   "metadata": {},
   "outputs": [],
   "source": [
    "js = json.dumps(inv_dict)\n",
    "\n",
    "fd = open(\"inventory.txt\",'w')\n",
    "\n",
    "fd.write(js)\n",
    "\n",
    "fd.close()"
   ]
  },
  {
   "cell_type": "code",
   "execution_count": null,
   "metadata": {},
   "outputs": [],
   "source": []
  }
 ],
 "metadata": {
  "kernelspec": {
   "display_name": "Python 3",
   "language": "python",
   "name": "python3"
  },
  "language_info": {
   "codemirror_mode": {
    "name": "ipython",
    "version": 3
   },
   "file_extension": ".py",
   "mimetype": "text/x-python",
   "name": "python",
   "nbconvert_exporter": "python",
   "pygments_lexer": "ipython3",
   "version": "3.7.6"
  }
 },
 "nbformat": 4,
 "nbformat_minor": 4
}
